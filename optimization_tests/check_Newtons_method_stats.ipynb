{
 "cells": [
  {
   "cell_type": "code",
   "execution_count": 1,
   "metadata": {},
   "outputs": [],
   "source": [
    "import numpy as np\n",
    "import sys\n",
    "import os\n",
    "sys.path.append(os.path.join('..','..','cs207-FinalProject'))\n",
    "import autodiff as ad\n",
    "\n",
    "import sparse_jacobian as sj\n"
   ]
  },
  {
   "cell_type": "markdown",
   "metadata": {},
   "source": [
    "First, I'm going to see how well Newton's method finds the roots of the function $f(x_0, x_1, x_2) = [ x_0^2, \\:x_1-2, \\: 3*x_2]$. I will look at how long it takes to find the roots and the number of iterations it takes to find the roots."
   ]
  },
  {
   "cell_type": "code",
   "execution_count": 2,
   "metadata": {},
   "outputs": [],
   "source": [
    "#define the function\n",
    "def f(x):\n",
    "    x0 = x[0];\n",
    "    x1 = x[1];\n",
    "    x2 = x[2];\n",
    "    return [x0**2, x1-2, 3*x2];"
   ]
  },
  {
   "cell_type": "code",
   "execution_count": 3,
   "metadata": {},
   "outputs": [
    {
     "name": "stdout",
     "output_type": "stream",
     "text": [
      "Compute x = A^(-1)b\n",
      "Roots:  [1.8189894e-12 2.0000000e+00 0.0000000e+00]\n",
      "Number of iterations:  41\n"
     ]
    }
   ],
   "source": [
    "#find roots by solving x = A^(-1)b\n",
    "roots_inv, iters_inv = ad.optimize.newtons_method(f, initial_guess=[2, 5, 2], method='inverse');\n",
    "print(\"Compute x = A^(-1)b\");\n",
    "print(\"Roots: \", roots_inv);\n",
    "print(\"Number of iterations: \", iters_inv);"
   ]
  },
  {
   "cell_type": "code",
   "execution_count": 4,
   "metadata": {},
   "outputs": [
    {
     "name": "stdout",
     "output_type": "stream",
     "text": [
      "Use np.linalg.solve to solve Ax=b\n",
      "Roots:  [1.8189894e-12 2.0000000e+00 0.0000000e+00]\n",
      "Number of iterations:  41\n"
     ]
    }
   ],
   "source": [
    "#find roots by using np.linalg.solve to solve Ax=b\n",
    "roots_inv, iters_inv = ad.optimize.newtons_method(f, initial_guess=[2, 5, 2], method='exact');\n",
    "print(\"Use np.linalg.solve to solve Ax=b\");\n",
    "print(\"Roots: \", roots_inv);\n",
    "print(\"Number of iterations: \", iters_inv);"
   ]
  },
  {
   "cell_type": "code",
   "execution_count": 5,
   "metadata": {},
   "outputs": [
    {
     "name": "stdout",
     "output_type": "stream",
     "text": [
      "Use np.linalg.gmres to solve Ax=b\n",
      "Roots:  [9.53674316e-07 2.00000000e+00 0.00000000e+00]\n",
      "Number of iterations:  22\n"
     ]
    }
   ],
   "source": [
    "#find roots by using gmres to solve Ax=b\n",
    "roots_inv, iters_inv = ad.optimize.newtons_method(f, initial_guess=[2, 5, 2], method='gmres');\n",
    "print(\"Use np.linalg.gmres to solve Ax=b\");\n",
    "print(\"Roots: \", roots_inv);\n",
    "print(\"Number of iterations: \", iters_inv);"
   ]
  },
  {
   "cell_type": "code",
   "execution_count": 6,
   "metadata": {},
   "outputs": [
    {
     "name": "stdout",
     "output_type": "stream",
     "text": [
      "Use np.linalg.gmres with defined action to solve Ax=b\n",
      "Roots:  [9.53674316e-07 2.00000000e+00 0.00000000e+00]\n",
      "Number of iterations:  22\n"
     ]
    }
   ],
   "source": [
    "#find roots by using gmres to solve Ax=b\n",
    "roots_inv, iters_inv = ad.optimize.newtons_method(f, initial_guess=[2, 5, 2], method='gmres_action');\n",
    "print(\"Use np.linalg.gmres with defined action to solve Ax=b\");\n",
    "print(\"Roots: \", roots_inv);\n",
    "print(\"Number of iterations: \", iters_inv);"
   ]
  },
  {
   "cell_type": "code",
   "execution_count": 7,
   "metadata": {},
   "outputs": [
    {
     "name": "stdout",
     "output_type": "stream",
     "text": [
      "Compute x = A^(-1)b\n",
      "Roots:  [1.8189894e-12 2.0000000e+00 0.0000000e+00]\n",
      "Average Processing Time:  0.010870600000000041\n",
      "Number of iterations:  41.0\n",
      "\n",
      "\n",
      "Use np.linalg.solve to solve Ax=b\n",
      "Roots:  [1.8189894e-12 2.0000000e+00 0.0000000e+00]\n",
      "Average Processing Time:  0.010274399999999972\n",
      "Number of iterations:  41.0\n",
      "\n",
      "\n",
      "Use np.linalg.gmres to solve Ax=b\n",
      "Roots:  [9.53674316e-07 2.00000000e+00 0.00000000e+00]\n",
      "Average Processing Time:  0.011409900000000039\n",
      "Number of iterations:  22.0\n",
      "\n",
      "\n",
      "Use np.linalg.gmres with defined action to solve Ax=b\n",
      "Roots:  [9.53674316e-07 2.00000000e+00 0.00000000e+00]\n",
      "Average Processing Time:  0.017952900000000004\n",
      "Number of iterations:  22.0\n",
      "\n",
      "\n"
     ]
    }
   ],
   "source": [
    "from time import clock\n",
    "\n",
    "#run through the methods multiple times to get average CPU time\n",
    "methods = ['inverse', 'exact', 'gmres', 'gmres_action'];\n",
    "lines_to_print = [\"Compute x = A^(-1)b\", \"Use np.linalg.solve to solve Ax=b\", \"Use np.linalg.gmres to solve Ax=b\", \"Use np.linalg.gmres with defined action to solve Ax=b\"];\n",
    "\n",
    "num_trials = 10;\n",
    "for i, method in enumerate(methods):\n",
    "    proc_times = [];\n",
    "    iters = [];\n",
    "    for n in range(num_trials):\n",
    "        c = clock();\n",
    "        roots, iters_trial = ad.optimize.newtons_method(f, initial_guess=[2, 5, 2], method = method);\n",
    "        stop = clock();\n",
    "        proc_times.append(stop-c);\n",
    "        iters.append(iters_trial);\n",
    "    \n",
    "    print(lines_to_print[i]);\n",
    "    print(\"Roots: \", roots);\n",
    "    print(\"Average Processing Time: \", np.mean(proc_times));\n",
    "    print(\"Number of iterations: \", np.mean(iters));\n",
    "    print(\"\\n\")"
   ]
  },
  {
   "cell_type": "markdown",
   "metadata": {},
   "source": [
    "Second, I'm going to see how well Newton's method finds the roots of a function that goes from $R^{1000} \\rightarrow   R^{1000}$. I will look at how long it takes to find the roots and the number of iterations it takes to find the roots."
   ]
  },
  {
   "cell_type": "code",
   "execution_count": 2,
   "metadata": {},
   "outputs": [],
   "source": [
    "np.random.seed(43);\n",
    "thous_vals = np.random.randint(1,10, size=1000);\n",
    "thous_vals = thous_vals.astype(float)\n",
    "# print(thous_vals)\n",
    "\n",
    "f = sj.sparse_jacob;\n",
    "f_thous_vals = f(thous_vals)"
   ]
  },
  {
   "cell_type": "code",
   "execution_count": 3,
   "metadata": {},
   "outputs": [
    {
     "ename": "LinAlgError",
     "evalue": "Singular matrix",
     "output_type": "error",
     "traceback": [
      "\u001b[0;31m---------------------------------------------------------------------------\u001b[0m",
      "\u001b[0;31mLinAlgError\u001b[0m                               Traceback (most recent call last)",
      "\u001b[0;32m<ipython-input-3-9c0dd9e1fb17>\u001b[0m in \u001b[0;36m<module>\u001b[0;34m()\u001b[0m\n\u001b[1;32m      1\u001b[0m \u001b[0;31m#find roots by solving x = A^(-1)b\u001b[0m\u001b[0;34m\u001b[0m\u001b[0;34m\u001b[0m\u001b[0m\n\u001b[0;32m----> 2\u001b[0;31m \u001b[0mroots_inv\u001b[0m\u001b[0;34m,\u001b[0m \u001b[0miters_inv\u001b[0m \u001b[0;34m=\u001b[0m \u001b[0mad\u001b[0m\u001b[0;34m.\u001b[0m\u001b[0moptimize\u001b[0m\u001b[0;34m.\u001b[0m\u001b[0mnewtons_method\u001b[0m\u001b[0;34m(\u001b[0m\u001b[0mf\u001b[0m\u001b[0;34m,\u001b[0m \u001b[0minitial_guess\u001b[0m\u001b[0;34m=\u001b[0m\u001b[0mthous_vals\u001b[0m\u001b[0;34m,\u001b[0m \u001b[0mmethod\u001b[0m\u001b[0;34m=\u001b[0m\u001b[0;34m'inverse'\u001b[0m\u001b[0;34m)\u001b[0m\u001b[0;34m;\u001b[0m\u001b[0;34m\u001b[0m\u001b[0m\n\u001b[0m\u001b[1;32m      3\u001b[0m \u001b[0mprint\u001b[0m\u001b[0;34m(\u001b[0m\u001b[0;34m\"Compute x = A^(-1)b\"\u001b[0m\u001b[0;34m)\u001b[0m\u001b[0;34m;\u001b[0m\u001b[0;34m\u001b[0m\u001b[0m\n\u001b[1;32m      4\u001b[0m \u001b[0mprint\u001b[0m\u001b[0;34m(\u001b[0m\u001b[0;34m\"Roots: \"\u001b[0m\u001b[0;34m,\u001b[0m \u001b[0mroots_inv\u001b[0m\u001b[0;34m)\u001b[0m\u001b[0;34m;\u001b[0m\u001b[0;34m\u001b[0m\u001b[0m\n\u001b[1;32m      5\u001b[0m \u001b[0mprint\u001b[0m\u001b[0;34m(\u001b[0m\u001b[0;34m\"Number of iterations: \"\u001b[0m\u001b[0;34m,\u001b[0m \u001b[0miters_inv\u001b[0m\u001b[0;34m)\u001b[0m\u001b[0;34m;\u001b[0m\u001b[0;34m\u001b[0m\u001b[0m\n",
      "\u001b[0;32m~/Desktop/Bhaven/Harvard/Classes/CS207/cs207-FinalProject/autodiff/optimize.py\u001b[0m in \u001b[0;36mnewtons_method\u001b[0;34m(f, initial_guess, max_iter, method, tol)\u001b[0m\n\u001b[1;32m    250\u001b[0m         \u001b[0mjacob\u001b[0m \u001b[0;34m=\u001b[0m \u001b[0mad\u001b[0m\u001b[0;34m.\u001b[0m\u001b[0mget_jacobian\u001b[0m\u001b[0;34m(\u001b[0m\u001b[0mfn\u001b[0m\u001b[0;34m,\u001b[0m \u001b[0;34m[\u001b[0m\u001b[0;34m'x0{}'\u001b[0m\u001b[0;34m.\u001b[0m\u001b[0mformat\u001b[0m\u001b[0;34m(\u001b[0m\u001b[0mi\u001b[0m\u001b[0;34m)\u001b[0m \u001b[0;32mfor\u001b[0m \u001b[0mi\u001b[0m \u001b[0;32min\u001b[0m \u001b[0mrange\u001b[0m\u001b[0;34m(\u001b[0m\u001b[0;36m1\u001b[0m\u001b[0;34m,\u001b[0m \u001b[0mlen\u001b[0m\u001b[0;34m(\u001b[0m\u001b[0mfn\u001b[0m\u001b[0;34m)\u001b[0m \u001b[0;34m+\u001b[0m \u001b[0;36m1\u001b[0m\u001b[0;34m)\u001b[0m\u001b[0;34m]\u001b[0m\u001b[0;34m)\u001b[0m\u001b[0;34m\u001b[0m\u001b[0m\n\u001b[1;32m    251\u001b[0m         \u001b[0;32mif\u001b[0m \u001b[0mmethod\u001b[0m \u001b[0;34m==\u001b[0m \u001b[0;34m'inverse'\u001b[0m\u001b[0;34m:\u001b[0m\u001b[0;34m\u001b[0m\u001b[0m\n\u001b[0;32m--> 252\u001b[0;31m             \u001b[0mstep\u001b[0m \u001b[0;34m=\u001b[0m \u001b[0mnp\u001b[0m\u001b[0;34m.\u001b[0m\u001b[0mlinalg\u001b[0m\u001b[0;34m.\u001b[0m\u001b[0minv\u001b[0m\u001b[0;34m(\u001b[0m\u001b[0;34m-\u001b[0m\u001b[0mjacob\u001b[0m\u001b[0;34m)\u001b[0m\u001b[0;34m.\u001b[0m\u001b[0mdot\u001b[0m\u001b[0;34m(\u001b[0m\u001b[0mad\u001b[0m\u001b[0;34m.\u001b[0m\u001b[0mget_value\u001b[0m\u001b[0;34m(\u001b[0m\u001b[0mfn\u001b[0m\u001b[0;34m)\u001b[0m\u001b[0;34m)\u001b[0m\u001b[0;34m\u001b[0m\u001b[0m\n\u001b[0m\u001b[1;32m    253\u001b[0m         \u001b[0;32mif\u001b[0m \u001b[0mmethod\u001b[0m \u001b[0;34m==\u001b[0m \u001b[0;34m'exact'\u001b[0m\u001b[0;34m:\u001b[0m\u001b[0;34m\u001b[0m\u001b[0m\n\u001b[1;32m    254\u001b[0m             \u001b[0mstep\u001b[0m \u001b[0;34m=\u001b[0m \u001b[0mnp\u001b[0m\u001b[0;34m.\u001b[0m\u001b[0mlinalg\u001b[0m\u001b[0;34m.\u001b[0m\u001b[0msolve\u001b[0m\u001b[0;34m(\u001b[0m\u001b[0;34m-\u001b[0m\u001b[0mjacob\u001b[0m\u001b[0;34m,\u001b[0m \u001b[0mad\u001b[0m\u001b[0;34m.\u001b[0m\u001b[0mget_value\u001b[0m\u001b[0;34m(\u001b[0m\u001b[0mfn\u001b[0m\u001b[0;34m)\u001b[0m\u001b[0;34m)\u001b[0m\u001b[0;34m\u001b[0m\u001b[0m\n",
      "\u001b[0;32m~/anaconda3/lib/python3.6/site-packages/numpy/linalg/linalg.py\u001b[0m in \u001b[0;36minv\u001b[0;34m(a)\u001b[0m\n\u001b[1;32m    526\u001b[0m     \u001b[0msignature\u001b[0m \u001b[0;34m=\u001b[0m \u001b[0;34m'D->D'\u001b[0m \u001b[0;32mif\u001b[0m \u001b[0misComplexType\u001b[0m\u001b[0;34m(\u001b[0m\u001b[0mt\u001b[0m\u001b[0;34m)\u001b[0m \u001b[0;32melse\u001b[0m \u001b[0;34m'd->d'\u001b[0m\u001b[0;34m\u001b[0m\u001b[0m\n\u001b[1;32m    527\u001b[0m     \u001b[0mextobj\u001b[0m \u001b[0;34m=\u001b[0m \u001b[0mget_linalg_error_extobj\u001b[0m\u001b[0;34m(\u001b[0m\u001b[0m_raise_linalgerror_singular\u001b[0m\u001b[0;34m)\u001b[0m\u001b[0;34m\u001b[0m\u001b[0m\n\u001b[0;32m--> 528\u001b[0;31m     \u001b[0mainv\u001b[0m \u001b[0;34m=\u001b[0m \u001b[0m_umath_linalg\u001b[0m\u001b[0;34m.\u001b[0m\u001b[0minv\u001b[0m\u001b[0;34m(\u001b[0m\u001b[0ma\u001b[0m\u001b[0;34m,\u001b[0m \u001b[0msignature\u001b[0m\u001b[0;34m=\u001b[0m\u001b[0msignature\u001b[0m\u001b[0;34m,\u001b[0m \u001b[0mextobj\u001b[0m\u001b[0;34m=\u001b[0m\u001b[0mextobj\u001b[0m\u001b[0;34m)\u001b[0m\u001b[0;34m\u001b[0m\u001b[0m\n\u001b[0m\u001b[1;32m    529\u001b[0m     \u001b[0;32mreturn\u001b[0m \u001b[0mwrap\u001b[0m\u001b[0;34m(\u001b[0m\u001b[0mainv\u001b[0m\u001b[0;34m.\u001b[0m\u001b[0mastype\u001b[0m\u001b[0;34m(\u001b[0m\u001b[0mresult_t\u001b[0m\u001b[0;34m,\u001b[0m \u001b[0mcopy\u001b[0m\u001b[0;34m=\u001b[0m\u001b[0;32mFalse\u001b[0m\u001b[0;34m)\u001b[0m\u001b[0;34m)\u001b[0m\u001b[0;34m\u001b[0m\u001b[0m\n\u001b[1;32m    530\u001b[0m \u001b[0;34m\u001b[0m\u001b[0m\n",
      "\u001b[0;32m~/anaconda3/lib/python3.6/site-packages/numpy/linalg/linalg.py\u001b[0m in \u001b[0;36m_raise_linalgerror_singular\u001b[0;34m(err, flag)\u001b[0m\n\u001b[1;32m     87\u001b[0m \u001b[0;34m\u001b[0m\u001b[0m\n\u001b[1;32m     88\u001b[0m \u001b[0;32mdef\u001b[0m \u001b[0m_raise_linalgerror_singular\u001b[0m\u001b[0;34m(\u001b[0m\u001b[0merr\u001b[0m\u001b[0;34m,\u001b[0m \u001b[0mflag\u001b[0m\u001b[0;34m)\u001b[0m\u001b[0;34m:\u001b[0m\u001b[0;34m\u001b[0m\u001b[0m\n\u001b[0;32m---> 89\u001b[0;31m     \u001b[0;32mraise\u001b[0m \u001b[0mLinAlgError\u001b[0m\u001b[0;34m(\u001b[0m\u001b[0;34m\"Singular matrix\"\u001b[0m\u001b[0;34m)\u001b[0m\u001b[0;34m\u001b[0m\u001b[0m\n\u001b[0m\u001b[1;32m     90\u001b[0m \u001b[0;34m\u001b[0m\u001b[0m\n\u001b[1;32m     91\u001b[0m \u001b[0;32mdef\u001b[0m \u001b[0m_raise_linalgerror_nonposdef\u001b[0m\u001b[0;34m(\u001b[0m\u001b[0merr\u001b[0m\u001b[0;34m,\u001b[0m \u001b[0mflag\u001b[0m\u001b[0;34m)\u001b[0m\u001b[0;34m:\u001b[0m\u001b[0;34m\u001b[0m\u001b[0m\n",
      "\u001b[0;31mLinAlgError\u001b[0m: Singular matrix"
     ]
    }
   ],
   "source": [
    "#find roots by solving x = A^(-1)b\n",
    "roots_inv, iters_inv = ad.optimize.newtons_method(f, initial_guess=thous_vals, method='inverse');\n",
    "print(\"Compute x = A^(-1)b\");\n",
    "print(\"Roots: \", roots_inv);\n",
    "print(\"Number of iterations: \", iters_inv);"
   ]
  }
 ],
 "metadata": {
  "kernelspec": {
   "display_name": "Python 3",
   "language": "python",
   "name": "python3"
  },
  "language_info": {
   "codemirror_mode": {
    "name": "ipython",
    "version": 3
   },
   "file_extension": ".py",
   "mimetype": "text/x-python",
   "name": "python",
   "nbconvert_exporter": "python",
   "pygments_lexer": "ipython3",
   "version": "3.6.5"
  }
 },
 "nbformat": 4,
 "nbformat_minor": 2
}
