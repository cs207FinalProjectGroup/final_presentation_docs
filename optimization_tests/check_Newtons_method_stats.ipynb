{
 "cells": [
  {
   "cell_type": "code",
   "execution_count": 1,
   "metadata": {},
   "outputs": [],
   "source": [
    "import numpy as np\n",
    "import sys\n",
    "import os\n",
    "sys.path.append(os.path.join('..','..','cs207-FinalProject'))\n",
    "import autodiff as ad\n",
    "\n",
    "import sparse_jacobian as sj\n"
   ]
  },
  {
   "cell_type": "markdown",
   "metadata": {},
   "source": [
    "First, I'm going to see how well Newton's method finds the roots of the function $f(x_0, x_1, x_2) = [ x_0^2, \\:x_1-2, \\: 3*x_2]$. I will look at how long it takes to find the roots and the number of iterations it takes to find the roots."
   ]
  },
  {
   "cell_type": "code",
   "execution_count": 2,
   "metadata": {},
   "outputs": [],
   "source": [
    "#define the function\n",
    "def f(x):\n",
    "    x0 = x[0];\n",
    "    x1 = x[1];\n",
    "    x2 = x[2];\n",
    "    return [x0**2, x1-2, 3*x2];"
   ]
  },
  {
   "cell_type": "code",
   "execution_count": 3,
   "metadata": {},
   "outputs": [
    {
     "name": "stdout",
     "output_type": "stream",
     "text": [
      "Compute x = A^(-1)b\n",
      "Roots:  [1.8189894e-12 2.0000000e+00 0.0000000e+00]\n",
      "Number of iterations:  41\n"
     ]
    }
   ],
   "source": [
    "#find roots by solving x = A^(-1)b\n",
    "roots_inv, iters_inv = ad.optimize.newtons_method(f, initial_guess=[2, 5, 2], method='inverse');\n",
    "print(\"Compute x = A^(-1)b\");\n",
    "print(\"Roots: \", roots_inv);\n",
    "print(\"Number of iterations: \", iters_inv);"
   ]
  },
  {
   "cell_type": "code",
   "execution_count": 4,
   "metadata": {},
   "outputs": [
    {
     "name": "stdout",
     "output_type": "stream",
     "text": [
      "Use np.linalg.solve to solve Ax=b\n",
      "Roots:  [1.8189894e-12 2.0000000e+00 0.0000000e+00]\n",
      "Number of iterations:  41\n"
     ]
    }
   ],
   "source": [
    "#find roots by using np.linalg.solve to solve Ax=b\n",
    "roots_inv, iters_inv = ad.optimize.newtons_method(f, initial_guess=[2, 5, 2], method='exact');\n",
    "print(\"Use np.linalg.solve to solve Ax=b\");\n",
    "print(\"Roots: \", roots_inv);\n",
    "print(\"Number of iterations: \", iters_inv);"
   ]
  },
  {
   "cell_type": "code",
   "execution_count": 5,
   "metadata": {},
   "outputs": [
    {
     "name": "stdout",
     "output_type": "stream",
     "text": [
      "Use np.linalg.gmres to solve Ax=b\n",
      "Roots:  [9.53674316e-07 2.00000000e+00 0.00000000e+00]\n",
      "Number of iterations:  22\n"
     ]
    }
   ],
   "source": [
    "#find roots by using gmres to solve Ax=b\n",
    "roots_inv, iters_inv = ad.optimize.newtons_method(f, initial_guess=[2, 5, 2], method='gmres');\n",
    "print(\"Use np.linalg.gmres to solve Ax=b\");\n",
    "print(\"Roots: \", roots_inv);\n",
    "print(\"Number of iterations: \", iters_inv);"
   ]
  },
  {
   "cell_type": "code",
   "execution_count": 6,
   "metadata": {},
   "outputs": [
    {
     "name": "stdout",
     "output_type": "stream",
     "text": [
      "Use np.linalg.gmres with defined action to solve Ax=b\n",
      "Roots:  [9.53674316e-07 2.00000000e+00 0.00000000e+00]\n",
      "Number of iterations:  22\n"
     ]
    }
   ],
   "source": [
    "#find roots by using gmres to solve Ax=b\n",
    "roots_inv, iters_inv = ad.optimize.newtons_method(f, initial_guess=[2, 5, 2], method='gmres_action');\n",
    "print(\"Use np.linalg.gmres with defined action to solve Ax=b\");\n",
    "print(\"Roots: \", roots_inv);\n",
    "print(\"Number of iterations: \", iters_inv);"
   ]
  },
  {
   "cell_type": "code",
   "execution_count": 7,
   "metadata": {},
   "outputs": [
    {
     "name": "stdout",
     "output_type": "stream",
     "text": [
      "Compute x = A^(-1)b\n",
      "Roots:  [1.8189894e-12 2.0000000e+00 0.0000000e+00]\n",
      "Average Processing Time:  0.010870600000000041\n",
      "Number of iterations:  41.0\n",
      "\n",
      "\n",
      "Use np.linalg.solve to solve Ax=b\n",
      "Roots:  [1.8189894e-12 2.0000000e+00 0.0000000e+00]\n",
      "Average Processing Time:  0.010274399999999972\n",
      "Number of iterations:  41.0\n",
      "\n",
      "\n",
      "Use np.linalg.gmres to solve Ax=b\n",
      "Roots:  [9.53674316e-07 2.00000000e+00 0.00000000e+00]\n",
      "Average Processing Time:  0.011409900000000039\n",
      "Number of iterations:  22.0\n",
      "\n",
      "\n",
      "Use np.linalg.gmres with defined action to solve Ax=b\n",
      "Roots:  [9.53674316e-07 2.00000000e+00 0.00000000e+00]\n",
      "Average Processing Time:  0.017952900000000004\n",
      "Number of iterations:  22.0\n",
      "\n",
      "\n"
     ]
    }
   ],
   "source": [
    "from time import clock\n",
    "\n",
    "#run through the methods multiple times to get average CPU time\n",
    "methods = ['inverse', 'exact', 'gmres', 'gmres_action'];\n",
    "lines_to_print = [\"Compute x = A^(-1)b\", \"Use np.linalg.solve to solve Ax=b\", \"Use np.linalg.gmres to solve Ax=b\", \"Use np.linalg.gmres with defined action to solve Ax=b\"];\n",
    "\n",
    "num_trials = 10;\n",
    "for i, method in enumerate(methods):\n",
    "    proc_times = [];\n",
    "    iters = [];\n",
    "    for n in range(num_trials):\n",
    "        c = clock();\n",
    "        roots, iters_trial = ad.optimize.newtons_method(f, initial_guess=[2, 5, 2], method = method);\n",
    "        stop = clock();\n",
    "        proc_times.append(stop-c);\n",
    "        iters.append(iters_trial);\n",
    "    \n",
    "    print(lines_to_print[i]);\n",
    "    print(\"Roots: \", roots);\n",
    "    print(\"Average Processing Time: \", np.mean(proc_times));\n",
    "    print(\"Number of iterations: \", np.mean(iters));\n",
    "    print(\"\\n\")"
   ]
  },
  {
   "cell_type": "code",
   "execution_count": null,
   "metadata": {},
   "outputs": [],
   "source": [
    "np.random.seed(42);\n",
    "thous_vals = np.random.randint(1,10, size=1000);\n",
    "thous_vals = thous_vals.astype(float)\n",
    "# print(thous_vals)\n",
    "\n",
    "f_thous_vals = sj.sparse_jacob(thous_vals)\n",
    "# f_thous_vals"
   ]
  }
 ],
 "metadata": {
  "kernelspec": {
   "display_name": "Python 3",
   "language": "python",
   "name": "python3"
  },
  "language_info": {
   "codemirror_mode": {
    "name": "ipython",
    "version": 3
   },
   "file_extension": ".py",
   "mimetype": "text/x-python",
   "name": "python",
   "nbconvert_exporter": "python",
   "pygments_lexer": "ipython3",
   "version": "3.6.5"
  }
 },
 "nbformat": 4,
 "nbformat_minor": 2
}
