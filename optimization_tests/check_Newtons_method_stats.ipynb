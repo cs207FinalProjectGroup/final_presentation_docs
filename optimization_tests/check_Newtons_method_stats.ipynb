{
 "cells": [
  {
   "cell_type": "code",
   "execution_count": 1,
   "metadata": {},
   "outputs": [],
   "source": [
    "import numpy as np\n",
    "import sys\n",
    "import os\n",
    "sys.path.append(os.path.join('..','..','cs207-FinalProject'))\n",
    "import autodiff as ad\n",
    "\n",
    "import sparse_jacobian as sj\n"
   ]
  },
  {
   "cell_type": "code",
   "execution_count": 11,
   "metadata": {},
   "outputs": [],
   "source": [
    "np.random.seed(42);\n",
    "thous_vals = np.random.randint(1,10, size=1000);\n",
    "thous_vals = thous_vals.astype(float)\n",
    "# print(thous_vals)\n",
    "\n",
    "f_thous_vals = sj.sparse_jacob(thous_vals)\n",
    "# f_thous_vals"
   ]
  }
 ],
 "metadata": {
  "kernelspec": {
   "display_name": "Python 3",
   "language": "python",
   "name": "python3"
  },
  "language_info": {
   "codemirror_mode": {
    "name": "ipython",
    "version": 3
   },
   "file_extension": ".py",
   "mimetype": "text/x-python",
   "name": "python",
   "nbconvert_exporter": "python",
   "pygments_lexer": "ipython3",
   "version": "3.6.5"
  }
 },
 "nbformat": 4,
 "nbformat_minor": 2
}
